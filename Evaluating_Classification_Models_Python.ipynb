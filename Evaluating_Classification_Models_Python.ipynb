{
  "cells": [
    {
      "cell_type": "markdown",
      "metadata": {
        "id": "view-in-github",
        "colab_type": "text"
      },
      "source": [
        "<a href=\"https://colab.research.google.com/github/ilanouk/Data-Science/blob/main/Evaluating_Classification_Models_Python.ipynb\" target=\"_parent\"><img src=\"https://colab.research.google.com/assets/colab-badge.svg\" alt=\"Open In Colab\"/></a>"
      ]
    },
    {
      "cell_type": "code",
      "execution_count": null,
      "id": "d865c4c7",
      "metadata": {
        "id": "d865c4c7"
      },
      "outputs": [],
      "source": [
        "# Usually Python packages\n",
        "import os\n",
        "from pathlib import Path\n",
        "import pandas as pd\n",
        "import numpy as np\n",
        "import matplotlib.pyplot as plt\n",
        "\n",
        "# Packages for evaluation metrics\n",
        "from sklearn.metrics import confusion_matrix, precision_recall_fscore_support\n",
        "from sklearn.metrics import roc_curve, accuracy_score, roc_auc_score\n",
        "from sklearn.model_selection import train_test_split\n",
        "\n",
        "# A supervised model: Logistic Regression\n",
        "from sklearn.linear_model import LogisticRegression\n",
        "\n",
        "%matplotlib inline"
      ]
    },
    {
      "cell_type": "markdown",
      "id": "a7a97f1c",
      "metadata": {
        "id": "a7a97f1c"
      },
      "source": [
        "## Load the data and fit the model"
      ]
    },
    {
      "cell_type": "code",
      "execution_count": null,
      "id": "8cb794a9",
      "metadata": {
        "id": "8cb794a9",
        "colab": {
          "base_uri": "https://localhost:8080/",
          "height": 35
        },
        "outputId": "9b61f78c-ec03-4336-fafa-6252eb64baa0"
      },
      "outputs": [
        {
          "output_type": "execute_result",
          "data": {
            "text/plain": [
              "'./sample_data'"
            ],
            "application/vnd.google.colaboratory.intrinsic+json": {
              "type": "string"
            }
          },
          "metadata": {},
          "execution_count": 39
        }
      ],
      "source": [
        "# The data will be saved in the 'sample_data' directory\n",
        "DATA_DIR_PATH = \"./sample_data\"\n",
        "DATA_DIR_PATH"
      ]
    },
    {
      "cell_type": "markdown",
      "id": "648b7d5b",
      "metadata": {
        "id": "648b7d5b"
      },
      "source": [
        "### Load loan data"
      ]
    },
    {
      "cell_type": "code",
      "execution_count": null,
      "id": "3f30a38a",
      "metadata": {
        "id": "3f30a38a",
        "colab": {
          "base_uri": "https://localhost:8080/",
          "height": 377
        },
        "outputId": "f46c1f0c-9e9d-4322-f5b3-047f45f724ec"
      },
      "outputs": [
        {
          "output_type": "stream",
          "name": "stdout",
          "text": [
            "(45342, 21)\n"
          ]
        },
        {
          "output_type": "execute_result",
          "data": {
            "text/plain": [
              "   Unnamed: 0       status  loan_amnt       term  annual_inc    dti  \\\n",
              "0           1  Charged Off       2500  60 months       30000   1.00   \n",
              "1           2  Charged Off       5600  60 months       40000   5.55   \n",
              "2           3  Charged Off       5375  60 months       15000  18.08   \n",
              "3           4  Charged Off       9000  36 months       30000  10.08   \n",
              "4           5  Charged Off      10000  36 months      100000   7.06   \n",
              "\n",
              "   payment_inc_ratio  revol_bal  revol_util             purpose  ...  \\\n",
              "0            2.39320       1687         9.4                 car  ...   \n",
              "1            4.57170       5210        32.6      small_business  ...   \n",
              "2            9.71600       9279        36.5               other  ...   \n",
              "3           12.21520      10452        91.7  debt_consolidation  ...   \n",
              "4            3.90888      11997        55.5               other  ...   \n",
              "\n",
              "  delinq_2yrs_zero  pub_rec_zero  open_acc  grade  outcome emp_length  \\\n",
              "0                1             1         3    4.8  default          1   \n",
              "1                1             1        11    1.4  default          5   \n",
              "2                1             1         2    6.0  default          1   \n",
              "3                1             1         4    4.2  default          1   \n",
              "4                1             1        14    5.4  default          4   \n",
              "\n",
              "             purpose_ home_   emp_len_ borrower_score  \n",
              "0      major_purchase  RENT   > 1 Year           0.65  \n",
              "1      small_business   OWN   > 1 Year           0.80  \n",
              "2               other  RENT   > 1 Year           0.60  \n",
              "3  debt_consolidation  RENT   > 1 Year           0.50  \n",
              "4               other  RENT   > 1 Year           0.55  \n",
              "\n",
              "[5 rows x 21 columns]"
            ],
            "text/html": [
              "\n",
              "  <div id=\"df-cc252c01-e762-42ca-8f31-b40788905a92\" class=\"colab-df-container\">\n",
              "    <div>\n",
              "<style scoped>\n",
              "    .dataframe tbody tr th:only-of-type {\n",
              "        vertical-align: middle;\n",
              "    }\n",
              "\n",
              "    .dataframe tbody tr th {\n",
              "        vertical-align: top;\n",
              "    }\n",
              "\n",
              "    .dataframe thead th {\n",
              "        text-align: right;\n",
              "    }\n",
              "</style>\n",
              "<table border=\"1\" class=\"dataframe\">\n",
              "  <thead>\n",
              "    <tr style=\"text-align: right;\">\n",
              "      <th></th>\n",
              "      <th>Unnamed: 0</th>\n",
              "      <th>status</th>\n",
              "      <th>loan_amnt</th>\n",
              "      <th>term</th>\n",
              "      <th>annual_inc</th>\n",
              "      <th>dti</th>\n",
              "      <th>payment_inc_ratio</th>\n",
              "      <th>revol_bal</th>\n",
              "      <th>revol_util</th>\n",
              "      <th>purpose</th>\n",
              "      <th>...</th>\n",
              "      <th>delinq_2yrs_zero</th>\n",
              "      <th>pub_rec_zero</th>\n",
              "      <th>open_acc</th>\n",
              "      <th>grade</th>\n",
              "      <th>outcome</th>\n",
              "      <th>emp_length</th>\n",
              "      <th>purpose_</th>\n",
              "      <th>home_</th>\n",
              "      <th>emp_len_</th>\n",
              "      <th>borrower_score</th>\n",
              "    </tr>\n",
              "  </thead>\n",
              "  <tbody>\n",
              "    <tr>\n",
              "      <th>0</th>\n",
              "      <td>1</td>\n",
              "      <td>Charged Off</td>\n",
              "      <td>2500</td>\n",
              "      <td>60 months</td>\n",
              "      <td>30000</td>\n",
              "      <td>1.00</td>\n",
              "      <td>2.39320</td>\n",
              "      <td>1687</td>\n",
              "      <td>9.4</td>\n",
              "      <td>car</td>\n",
              "      <td>...</td>\n",
              "      <td>1</td>\n",
              "      <td>1</td>\n",
              "      <td>3</td>\n",
              "      <td>4.8</td>\n",
              "      <td>default</td>\n",
              "      <td>1</td>\n",
              "      <td>major_purchase</td>\n",
              "      <td>RENT</td>\n",
              "      <td>&gt; 1 Year</td>\n",
              "      <td>0.65</td>\n",
              "    </tr>\n",
              "    <tr>\n",
              "      <th>1</th>\n",
              "      <td>2</td>\n",
              "      <td>Charged Off</td>\n",
              "      <td>5600</td>\n",
              "      <td>60 months</td>\n",
              "      <td>40000</td>\n",
              "      <td>5.55</td>\n",
              "      <td>4.57170</td>\n",
              "      <td>5210</td>\n",
              "      <td>32.6</td>\n",
              "      <td>small_business</td>\n",
              "      <td>...</td>\n",
              "      <td>1</td>\n",
              "      <td>1</td>\n",
              "      <td>11</td>\n",
              "      <td>1.4</td>\n",
              "      <td>default</td>\n",
              "      <td>5</td>\n",
              "      <td>small_business</td>\n",
              "      <td>OWN</td>\n",
              "      <td>&gt; 1 Year</td>\n",
              "      <td>0.80</td>\n",
              "    </tr>\n",
              "    <tr>\n",
              "      <th>2</th>\n",
              "      <td>3</td>\n",
              "      <td>Charged Off</td>\n",
              "      <td>5375</td>\n",
              "      <td>60 months</td>\n",
              "      <td>15000</td>\n",
              "      <td>18.08</td>\n",
              "      <td>9.71600</td>\n",
              "      <td>9279</td>\n",
              "      <td>36.5</td>\n",
              "      <td>other</td>\n",
              "      <td>...</td>\n",
              "      <td>1</td>\n",
              "      <td>1</td>\n",
              "      <td>2</td>\n",
              "      <td>6.0</td>\n",
              "      <td>default</td>\n",
              "      <td>1</td>\n",
              "      <td>other</td>\n",
              "      <td>RENT</td>\n",
              "      <td>&gt; 1 Year</td>\n",
              "      <td>0.60</td>\n",
              "    </tr>\n",
              "    <tr>\n",
              "      <th>3</th>\n",
              "      <td>4</td>\n",
              "      <td>Charged Off</td>\n",
              "      <td>9000</td>\n",
              "      <td>36 months</td>\n",
              "      <td>30000</td>\n",
              "      <td>10.08</td>\n",
              "      <td>12.21520</td>\n",
              "      <td>10452</td>\n",
              "      <td>91.7</td>\n",
              "      <td>debt_consolidation</td>\n",
              "      <td>...</td>\n",
              "      <td>1</td>\n",
              "      <td>1</td>\n",
              "      <td>4</td>\n",
              "      <td>4.2</td>\n",
              "      <td>default</td>\n",
              "      <td>1</td>\n",
              "      <td>debt_consolidation</td>\n",
              "      <td>RENT</td>\n",
              "      <td>&gt; 1 Year</td>\n",
              "      <td>0.50</td>\n",
              "    </tr>\n",
              "    <tr>\n",
              "      <th>4</th>\n",
              "      <td>5</td>\n",
              "      <td>Charged Off</td>\n",
              "      <td>10000</td>\n",
              "      <td>36 months</td>\n",
              "      <td>100000</td>\n",
              "      <td>7.06</td>\n",
              "      <td>3.90888</td>\n",
              "      <td>11997</td>\n",
              "      <td>55.5</td>\n",
              "      <td>other</td>\n",
              "      <td>...</td>\n",
              "      <td>1</td>\n",
              "      <td>1</td>\n",
              "      <td>14</td>\n",
              "      <td>5.4</td>\n",
              "      <td>default</td>\n",
              "      <td>4</td>\n",
              "      <td>other</td>\n",
              "      <td>RENT</td>\n",
              "      <td>&gt; 1 Year</td>\n",
              "      <td>0.55</td>\n",
              "    </tr>\n",
              "  </tbody>\n",
              "</table>\n",
              "<p>5 rows × 21 columns</p>\n",
              "</div>\n",
              "    <div class=\"colab-df-buttons\">\n",
              "\n",
              "  <div class=\"colab-df-container\">\n",
              "    <button class=\"colab-df-convert\" onclick=\"convertToInteractive('df-cc252c01-e762-42ca-8f31-b40788905a92')\"\n",
              "            title=\"Convert this dataframe to an interactive table.\"\n",
              "            style=\"display:none;\">\n",
              "\n",
              "  <svg xmlns=\"http://www.w3.org/2000/svg\" height=\"24px\" viewBox=\"0 -960 960 960\">\n",
              "    <path d=\"M120-120v-720h720v720H120Zm60-500h600v-160H180v160Zm220 220h160v-160H400v160Zm0 220h160v-160H400v160ZM180-400h160v-160H180v160Zm440 0h160v-160H620v160ZM180-180h160v-160H180v160Zm440 0h160v-160H620v160Z\"/>\n",
              "  </svg>\n",
              "    </button>\n",
              "\n",
              "  <style>\n",
              "    .colab-df-container {\n",
              "      display:flex;\n",
              "      gap: 12px;\n",
              "    }\n",
              "\n",
              "    .colab-df-convert {\n",
              "      background-color: #E8F0FE;\n",
              "      border: none;\n",
              "      border-radius: 50%;\n",
              "      cursor: pointer;\n",
              "      display: none;\n",
              "      fill: #1967D2;\n",
              "      height: 32px;\n",
              "      padding: 0 0 0 0;\n",
              "      width: 32px;\n",
              "    }\n",
              "\n",
              "    .colab-df-convert:hover {\n",
              "      background-color: #E2EBFA;\n",
              "      box-shadow: 0px 1px 2px rgba(60, 64, 67, 0.3), 0px 1px 3px 1px rgba(60, 64, 67, 0.15);\n",
              "      fill: #174EA6;\n",
              "    }\n",
              "\n",
              "    .colab-df-buttons div {\n",
              "      margin-bottom: 4px;\n",
              "    }\n",
              "\n",
              "    [theme=dark] .colab-df-convert {\n",
              "      background-color: #3B4455;\n",
              "      fill: #D2E3FC;\n",
              "    }\n",
              "\n",
              "    [theme=dark] .colab-df-convert:hover {\n",
              "      background-color: #434B5C;\n",
              "      box-shadow: 0px 1px 3px 1px rgba(0, 0, 0, 0.15);\n",
              "      filter: drop-shadow(0px 1px 2px rgba(0, 0, 0, 0.3));\n",
              "      fill: #FFFFFF;\n",
              "    }\n",
              "  </style>\n",
              "\n",
              "    <script>\n",
              "      const buttonEl =\n",
              "        document.querySelector('#df-cc252c01-e762-42ca-8f31-b40788905a92 button.colab-df-convert');\n",
              "      buttonEl.style.display =\n",
              "        google.colab.kernel.accessAllowed ? 'block' : 'none';\n",
              "\n",
              "      async function convertToInteractive(key) {\n",
              "        const element = document.querySelector('#df-cc252c01-e762-42ca-8f31-b40788905a92');\n",
              "        const dataTable =\n",
              "          await google.colab.kernel.invokeFunction('convertToInteractive',\n",
              "                                                    [key], {});\n",
              "        if (!dataTable) return;\n",
              "\n",
              "        const docLinkHtml = 'Like what you see? Visit the ' +\n",
              "          '<a target=\"_blank\" href=https://colab.research.google.com/notebooks/data_table.ipynb>data table notebook</a>'\n",
              "          + ' to learn more about interactive tables.';\n",
              "        element.innerHTML = '';\n",
              "        dataTable['output_type'] = 'display_data';\n",
              "        await google.colab.output.renderOutput(dataTable, element);\n",
              "        const docLink = document.createElement('div');\n",
              "        docLink.innerHTML = docLinkHtml;\n",
              "        element.appendChild(docLink);\n",
              "      }\n",
              "    </script>\n",
              "  </div>\n",
              "\n",
              "\n",
              "<div id=\"df-b4b37171-cc4e-4424-b44e-862f1556449d\">\n",
              "  <button class=\"colab-df-quickchart\" onclick=\"quickchart('df-b4b37171-cc4e-4424-b44e-862f1556449d')\"\n",
              "            title=\"Suggest charts.\"\n",
              "            style=\"display:none;\">\n",
              "\n",
              "<svg xmlns=\"http://www.w3.org/2000/svg\" height=\"24px\"viewBox=\"0 0 24 24\"\n",
              "     width=\"24px\">\n",
              "    <g>\n",
              "        <path d=\"M19 3H5c-1.1 0-2 .9-2 2v14c0 1.1.9 2 2 2h14c1.1 0 2-.9 2-2V5c0-1.1-.9-2-2-2zM9 17H7v-7h2v7zm4 0h-2V7h2v10zm4 0h-2v-4h2v4z\"/>\n",
              "    </g>\n",
              "</svg>\n",
              "  </button>\n",
              "\n",
              "<style>\n",
              "  .colab-df-quickchart {\n",
              "      --bg-color: #E8F0FE;\n",
              "      --fill-color: #1967D2;\n",
              "      --hover-bg-color: #E2EBFA;\n",
              "      --hover-fill-color: #174EA6;\n",
              "      --disabled-fill-color: #AAA;\n",
              "      --disabled-bg-color: #DDD;\n",
              "  }\n",
              "\n",
              "  [theme=dark] .colab-df-quickchart {\n",
              "      --bg-color: #3B4455;\n",
              "      --fill-color: #D2E3FC;\n",
              "      --hover-bg-color: #434B5C;\n",
              "      --hover-fill-color: #FFFFFF;\n",
              "      --disabled-bg-color: #3B4455;\n",
              "      --disabled-fill-color: #666;\n",
              "  }\n",
              "\n",
              "  .colab-df-quickchart {\n",
              "    background-color: var(--bg-color);\n",
              "    border: none;\n",
              "    border-radius: 50%;\n",
              "    cursor: pointer;\n",
              "    display: none;\n",
              "    fill: var(--fill-color);\n",
              "    height: 32px;\n",
              "    padding: 0;\n",
              "    width: 32px;\n",
              "  }\n",
              "\n",
              "  .colab-df-quickchart:hover {\n",
              "    background-color: var(--hover-bg-color);\n",
              "    box-shadow: 0 1px 2px rgba(60, 64, 67, 0.3), 0 1px 3px 1px rgba(60, 64, 67, 0.15);\n",
              "    fill: var(--button-hover-fill-color);\n",
              "  }\n",
              "\n",
              "  .colab-df-quickchart-complete:disabled,\n",
              "  .colab-df-quickchart-complete:disabled:hover {\n",
              "    background-color: var(--disabled-bg-color);\n",
              "    fill: var(--disabled-fill-color);\n",
              "    box-shadow: none;\n",
              "  }\n",
              "\n",
              "  .colab-df-spinner {\n",
              "    border: 2px solid var(--fill-color);\n",
              "    border-color: transparent;\n",
              "    border-bottom-color: var(--fill-color);\n",
              "    animation:\n",
              "      spin 1s steps(1) infinite;\n",
              "  }\n",
              "\n",
              "  @keyframes spin {\n",
              "    0% {\n",
              "      border-color: transparent;\n",
              "      border-bottom-color: var(--fill-color);\n",
              "      border-left-color: var(--fill-color);\n",
              "    }\n",
              "    20% {\n",
              "      border-color: transparent;\n",
              "      border-left-color: var(--fill-color);\n",
              "      border-top-color: var(--fill-color);\n",
              "    }\n",
              "    30% {\n",
              "      border-color: transparent;\n",
              "      border-left-color: var(--fill-color);\n",
              "      border-top-color: var(--fill-color);\n",
              "      border-right-color: var(--fill-color);\n",
              "    }\n",
              "    40% {\n",
              "      border-color: transparent;\n",
              "      border-right-color: var(--fill-color);\n",
              "      border-top-color: var(--fill-color);\n",
              "    }\n",
              "    60% {\n",
              "      border-color: transparent;\n",
              "      border-right-color: var(--fill-color);\n",
              "    }\n",
              "    80% {\n",
              "      border-color: transparent;\n",
              "      border-right-color: var(--fill-color);\n",
              "      border-bottom-color: var(--fill-color);\n",
              "    }\n",
              "    90% {\n",
              "      border-color: transparent;\n",
              "      border-bottom-color: var(--fill-color);\n",
              "    }\n",
              "  }\n",
              "</style>\n",
              "\n",
              "  <script>\n",
              "    async function quickchart(key) {\n",
              "      const quickchartButtonEl =\n",
              "        document.querySelector('#' + key + ' button');\n",
              "      quickchartButtonEl.disabled = true;  // To prevent multiple clicks.\n",
              "      quickchartButtonEl.classList.add('colab-df-spinner');\n",
              "      try {\n",
              "        const charts = await google.colab.kernel.invokeFunction(\n",
              "            'suggestCharts', [key], {});\n",
              "      } catch (error) {\n",
              "        console.error('Error during call to suggestCharts:', error);\n",
              "      }\n",
              "      quickchartButtonEl.classList.remove('colab-df-spinner');\n",
              "      quickchartButtonEl.classList.add('colab-df-quickchart-complete');\n",
              "    }\n",
              "    (() => {\n",
              "      let quickchartButtonEl =\n",
              "        document.querySelector('#df-b4b37171-cc4e-4424-b44e-862f1556449d button');\n",
              "      quickchartButtonEl.style.display =\n",
              "        google.colab.kernel.accessAllowed ? 'block' : 'none';\n",
              "    })();\n",
              "  </script>\n",
              "</div>\n",
              "    </div>\n",
              "  </div>\n"
            ]
          },
          "metadata": {},
          "execution_count": 40
        }
      ],
      "source": [
        "# Load the data using 'read_csv'\n",
        "MY_DATA = 'loan_data.csv'\n",
        "loan_data = pd.read_csv(os.path.join(DATA_DIR_PATH, MY_DATA))\n",
        "print(loan_data.shape); loan_data.head()"
      ]
    },
    {
      "cell_type": "code",
      "source": [
        "# Put the ground truth in 'y'\n",
        "y = loan_data['outcome'] # .cat.categories\n",
        "y_count = y.value_counts()\n",
        "\n",
        "# Let's visualize the class imbalance\n",
        "fig, ax = plt.subplots()\n",
        "ax.pie(y_count, labels = ['default', 'paid off'], autopct='%1.1f%%');"
      ],
      "metadata": {
        "id": "Znh8r2aaINpk",
        "colab": {
          "base_uri": "https://localhost:8080/",
          "height": 406
        },
        "outputId": "63e1af31-5cb0-4973-fa52-d6f523f71882"
      },
      "id": "Znh8r2aaINpk",
      "execution_count": null,
      "outputs": [
        {
          "output_type": "display_data",
          "data": {
            "text/plain": [
              "<Figure size 640x480 with 1 Axes>"
            ],
            "image/png": "[encoded data removed]"
          },
          "metadata": {}
        }
      ]
    },
    {
      "cell_type": "markdown",
      "id": "cf31e2a3",
      "metadata": {
        "id": "cf31e2a3"
      },
      "source": [
        "### Logistic regression"
      ]
    },
    {
      "cell_type": "code",
      "execution_count": null,
      "id": "46c155a2",
      "metadata": {
        "id": "46c155a2",
        "colab": {
          "base_uri": "https://localhost:8080/",
          "height": 74
        },
        "outputId": "d948b6bc-143a-4e7a-c837-7ca9d27eeecf"
      },
      "outputs": [
        {
          "output_type": "execute_result",
          "data": {
            "text/plain": [
              "LogisticRegression(solver='liblinear')"
            ],
            "text/html": [
              "<style>#sk-container-id-1 {color: black;background-color: white;}#sk-container-id-1 pre{padding: 0;}#sk-container-id-1 div.sk-toggleable {background-color: white;}#sk-container-id-1 label.sk-toggleable__label {cursor: pointer;display: block;width: 100%;margin-bottom: 0;padding: 0.3em;box-sizing: border-box;text-align: center;}#sk-container-id-1 label.sk-toggleable__label-arrow:before {content: \"▸\";float: left;margin-right: 0.25em;color: #696969;}#sk-container-id-1 label.sk-toggleable__label-arrow:hover:before {color: black;}#sk-container-id-1 div.sk-estimator:hover label.sk-toggleable__label-arrow:before {color: black;}#sk-container-id-1 div.sk-toggleable__content {max-height: 0;max-width: 0;overflow: hidden;text-align: left;background-color: #f0f8ff;}#sk-container-id-1 div.sk-toggleable__content pre {margin: 0.2em;color: black;border-radius: 0.25em;background-color: #f0f8ff;}#sk-container-id-1 input.sk-toggleable__control:checked~div.sk-toggleable__content {max-height: 200px;max-width: 100%;overflow: auto;}#sk-container-id-1 input.sk-toggleable__control:checked~label.sk-toggleable__label-arrow:before {content: \"▾\";}#sk-container-id-1 div.sk-estimator input.sk-toggleable__control:checked~label.sk-toggleable__label {background-color: #d4ebff;}#sk-container-id-1 div.sk-label input.sk-toggleable__control:checked~label.sk-toggleable__label {background-color: #d4ebff;}#sk-container-id-1 input.sk-hidden--visually {border: 0;clip: rect(1px 1px 1px 1px);clip: rect(1px, 1px, 1px, 1px);height: 1px;margin: -1px;overflow: hidden;padding: 0;position: absolute;width: 1px;}#sk-container-id-1 div.sk-estimator {font-family: monospace;background-color: #f0f8ff;border: 1px dotted black;border-radius: 0.25em;box-sizing: border-box;margin-bottom: 0.5em;}#sk-container-id-1 div.sk-estimator:hover {background-color: #d4ebff;}#sk-container-id-1 div.sk-parallel-item::after {content: \"\";width: 100%;border-bottom: 1px solid gray;flex-grow: 1;}#sk-container-id-1 div.sk-label:hover label.sk-toggleable__label {background-color: #d4ebff;}#sk-container-id-1 div.sk-serial::before {content: \"\";position: absolute;border-left: 1px solid gray;box-sizing: border-box;top: 0;bottom: 0;left: 50%;z-index: 0;}#sk-container-id-1 div.sk-serial {display: flex;flex-direction: column;align-items: center;background-color: white;padding-right: 0.2em;padding-left: 0.2em;position: relative;}#sk-container-id-1 div.sk-item {position: relative;z-index: 1;}#sk-container-id-1 div.sk-parallel {display: flex;align-items: stretch;justify-content: center;background-color: white;position: relative;}#sk-container-id-1 div.sk-item::before, #sk-container-id-1 div.sk-parallel-item::before {content: \"\";position: absolute;border-left: 1px solid gray;box-sizing: border-box;top: 0;bottom: 0;left: 50%;z-index: -1;}#sk-container-id-1 div.sk-parallel-item {display: flex;flex-direction: column;z-index: 1;position: relative;background-color: white;}#sk-container-id-1 div.sk-parallel-item:first-child::after {align-self: flex-end;width: 50%;}#sk-container-id-1 div.sk-parallel-item:last-child::after {align-self: flex-start;width: 50%;}#sk-container-id-1 div.sk-parallel-item:only-child::after {width: 0;}#sk-container-id-1 div.sk-dashed-wrapped {border: 1px dashed gray;margin: 0 0.4em 0.5em 0.4em;box-sizing: border-box;padding-bottom: 0.4em;background-color: white;}#sk-container-id-1 div.sk-label label {font-family: monospace;font-weight: bold;display: inline-block;line-height: 1.2em;}#sk-container-id-1 div.sk-label-container {text-align: center;}#sk-container-id-1 div.sk-container {/* jupyter's `normalize.less` sets `[hidden] { display: none; }` but bootstrap.min.css set `[hidden] { display: none !important; }` so we also need the `!important` here to be able to override the default hidden behavior on the sphinx rendered scikit-learn.org. See: https://github.com/scikit-learn/scikit-learn/issues/21755 */display: inline-block !important;position: relative;}#sk-container-id-1 div.sk-text-repr-fallback {display: none;}</style><div id=\"sk-container-id-1\" class=\"sk-top-container\"><div class=\"sk-text-repr-fallback\"><pre>LogisticRegression(solver=&#x27;liblinear&#x27;)</pre><b>In a Jupyter environment, please rerun this cell to show the HTML representation or trust the notebook. <br />On GitHub, the HTML representation is unable to render, please try loading this page with nbviewer.org.</b></div><div class=\"sk-container\" hidden><div class=\"sk-item\"><div class=\"sk-estimator sk-toggleable\"><input class=\"sk-toggleable__control sk-hidden--visually\" id=\"sk-estimator-id-1\" type=\"checkbox\" checked><label for=\"sk-estimator-id-1\" class=\"sk-toggleable__label sk-toggleable__label-arrow\">LogisticRegression</label><div class=\"sk-toggleable__content\"><pre>LogisticRegression(solver=&#x27;liblinear&#x27;)</pre></div></div></div></div></div>"
            ]
          },
          "metadata": {},
          "execution_count": 42
        }
      ],
      "source": [
        "# The LR model relies on several variables (predictors) to predict a\n",
        "# response (outcome).\n",
        "predictors = ['payment_inc_ratio', 'purpose_', 'home_', 'emp_len_', 'borrower_score']\n",
        "outcome = 'outcome'\n",
        "\n",
        "# Categorical variables should be dummified, ie. turned into binary variables\n",
        "X = pd.get_dummies(loan_data[predictors], prefix='', prefix_sep='', drop_first=True)\n",
        "\n",
        "# Split the data into train and tests datasets\n",
        "X_train, X_test, y_train, y_test = train_test_split(X, y, train_size=0.8, test_size=0.2)\n",
        "\n",
        "# Set the model parameters and fit the model\n",
        "logit_reg = LogisticRegression(penalty='l2', solver='liblinear')\n",
        "logit_reg.fit(X_train, y_train)"
      ]
    },
    {
      "cell_type": "code",
      "execution_count": null,
      "id": "b609697d",
      "metadata": {
        "id": "b609697d",
        "colab": {
          "base_uri": "https://localhost:8080/",
          "height": 429
        },
        "outputId": "4281f2ba-9a39-468d-dba1-46f5ae3971c5"
      },
      "outputs": [
        {
          "output_type": "stream",
          "name": "stdout",
          "text": [
            "intercept     -1.6289\n",
            "classes ['default' 'paid off']\n"
          ]
        },
        {
          "output_type": "execute_result",
          "data": {
            "text/plain": [
              "                       coeff\n",
              "payment_inc_ratio  -0.079964\n",
              "borrower_score      4.524884\n",
              "debt_consolidation -0.243201\n",
              "home_improvement   -0.373315\n",
              "major_purchase     -0.228300\n",
              "medical            -0.535350\n",
              "other              -0.632758\n",
              "small_business     -1.230888\n",
              "OWN                -0.053935\n",
              "RENT               -0.145208\n",
              " > 1 Year           0.379287"
            ],
            "text/html": [
              "\n",
              "  <div id=\"df-d1c74f9c-a474-4d1b-86fa-721232810298\" class=\"colab-df-container\">\n",
              "    <div>\n",
              "<style scoped>\n",
              "    .dataframe tbody tr th:only-of-type {\n",
              "        vertical-align: middle;\n",
              "    }\n",
              "\n",
              "    .dataframe tbody tr th {\n",
              "        vertical-align: top;\n",
              "    }\n",
              "\n",
              "    .dataframe thead th {\n",
              "        text-align: right;\n",
              "    }\n",
              "</style>\n",
              "<table border=\"1\" class=\"dataframe\">\n",
              "  <thead>\n",
              "    <tr style=\"text-align: right;\">\n",
              "      <th></th>\n",
              "      <th>coeff</th>\n",
              "    </tr>\n",
              "  </thead>\n",
              "  <tbody>\n",
              "    <tr>\n",
              "      <th>payment_inc_ratio</th>\n",
              "      <td>-0.079964</td>\n",
              "    </tr>\n",
              "    <tr>\n",
              "      <th>borrower_score</th>\n",
              "      <td>4.524884</td>\n",
              "    </tr>\n",
              "    <tr>\n",
              "      <th>debt_consolidation</th>\n",
              "      <td>-0.243201</td>\n",
              "    </tr>\n",
              "    <tr>\n",
              "      <th>home_improvement</th>\n",
              "      <td>-0.373315</td>\n",
              "    </tr>\n",
              "    <tr>\n",
              "      <th>major_purchase</th>\n",
              "      <td>-0.228300</td>\n",
              "    </tr>\n",
              "    <tr>\n",
              "      <th>medical</th>\n",
              "      <td>-0.535350</td>\n",
              "    </tr>\n",
              "    <tr>\n",
              "      <th>other</th>\n",
              "      <td>-0.632758</td>\n",
              "    </tr>\n",
              "    <tr>\n",
              "      <th>small_business</th>\n",
              "      <td>-1.230888</td>\n",
              "    </tr>\n",
              "    <tr>\n",
              "      <th>OWN</th>\n",
              "      <td>-0.053935</td>\n",
              "    </tr>\n",
              "    <tr>\n",
              "      <th>RENT</th>\n",
              "      <td>-0.145208</td>\n",
              "    </tr>\n",
              "    <tr>\n",
              "      <th>&gt; 1 Year</th>\n",
              "      <td>0.379287</td>\n",
              "    </tr>\n",
              "  </tbody>\n",
              "</table>\n",
              "</div>\n",
              "    <div class=\"colab-df-buttons\">\n",
              "\n",
              "  <div class=\"colab-df-container\">\n",
              "    <button class=\"colab-df-convert\" onclick=\"convertToInteractive('df-d1c74f9c-a474-4d1b-86fa-721232810298')\"\n",
              "            title=\"Convert this dataframe to an interactive table.\"\n",
              "            style=\"display:none;\">\n",
              "\n",
              "  <svg xmlns=\"http://www.w3.org/2000/svg\" height=\"24px\" viewBox=\"0 -960 960 960\">\n",
              "    <path d=\"M120-120v-720h720v720H120Zm60-500h600v-160H180v160Zm220 220h160v-160H400v160Zm0 220h160v-160H400v160ZM180-400h160v-160H180v160Zm440 0h160v-160H620v160ZM180-180h160v-160H180v160Zm440 0h160v-160H620v160Z\"/>\n",
              "  </svg>\n",
              "    </button>\n",
              "\n",
              "  <style>\n",
              "    .colab-df-container {\n",
              "      display:flex;\n",
              "      gap: 12px;\n",
              "    }\n",
              "\n",
              "    .colab-df-convert {\n",
              "      background-color: #E8F0FE;\n",
              "      border: none;\n",
              "      border-radius: 50%;\n",
              "      cursor: pointer;\n",
              "      display: none;\n",
              "      fill: #1967D2;\n",
              "      height: 32px;\n",
              "      padding: 0 0 0 0;\n",
              "      width: 32px;\n",
              "    }\n",
              "\n",
              "    .colab-df-convert:hover {\n",
              "      background-color: #E2EBFA;\n",
              "      box-shadow: 0px 1px 2px rgba(60, 64, 67, 0.3), 0px 1px 3px 1px rgba(60, 64, 67, 0.15);\n",
              "      fill: #174EA6;\n",
              "    }\n",
              "\n",
              "    .colab-df-buttons div {\n",
              "      margin-bottom: 4px;\n",
              "    }\n",
              "\n",
              "    [theme=dark] .colab-df-convert {\n",
              "      background-color: #3B4455;\n",
              "      fill: #D2E3FC;\n",
              "    }\n",
              "\n",
              "    [theme=dark] .colab-df-convert:hover {\n",
              "      background-color: #434B5C;\n",
              "      box-shadow: 0px 1px 3px 1px rgba(0, 0, 0, 0.15);\n",
              "      filter: drop-shadow(0px 1px 2px rgba(0, 0, 0, 0.3));\n",
              "      fill: #FFFFFF;\n",
              "    }\n",
              "  </style>\n",
              "\n",
              "    <script>\n",
              "      const buttonEl =\n",
              "        document.querySelector('#df-d1c74f9c-a474-4d1b-86fa-721232810298 button.colab-df-convert');\n",
              "      buttonEl.style.display =\n",
              "        google.colab.kernel.accessAllowed ? 'block' : 'none';\n",
              "\n",
              "      async function convertToInteractive(key) {\n",
              "        const element = document.querySelector('#df-d1c74f9c-a474-4d1b-86fa-721232810298');\n",
              "        const dataTable =\n",
              "          await google.colab.kernel.invokeFunction('convertToInteractive',\n",
              "                                                    [key], {});\n",
              "        if (!dataTable) return;\n",
              "\n",
              "        const docLinkHtml = 'Like what you see? Visit the ' +\n",
              "          '<a target=\"_blank\" href=https://colab.research.google.com/notebooks/data_table.ipynb>data table notebook</a>'\n",
              "          + ' to learn more about interactive tables.';\n",
              "        element.innerHTML = '';\n",
              "        dataTable['output_type'] = 'display_data';\n",
              "        await google.colab.output.renderOutput(dataTable, element);\n",
              "        const docLink = document.createElement('div');\n",
              "        docLink.innerHTML = docLinkHtml;\n",
              "        element.appendChild(docLink);\n",
              "      }\n",
              "    </script>\n",
              "  </div>\n",
              "\n",
              "\n",
              "<div id=\"df-08c507b8-3855-47d0-98cf-495bf577ed71\">\n",
              "  <button class=\"colab-df-quickchart\" onclick=\"quickchart('df-08c507b8-3855-47d0-98cf-495bf577ed71')\"\n",
              "            title=\"Suggest charts.\"\n",
              "            style=\"display:none;\">\n",
              "\n",
              "<svg xmlns=\"http://www.w3.org/2000/svg\" height=\"24px\"viewBox=\"0 0 24 24\"\n",
              "     width=\"24px\">\n",
              "    <g>\n",
              "        <path d=\"M19 3H5c-1.1 0-2 .9-2 2v14c0 1.1.9 2 2 2h14c1.1 0 2-.9 2-2V5c0-1.1-.9-2-2-2zM9 17H7v-7h2v7zm4 0h-2V7h2v10zm4 0h-2v-4h2v4z\"/>\n",
              "    </g>\n",
              "</svg>\n",
              "  </button>\n",
              "\n",
              "<style>\n",
              "  .colab-df-quickchart {\n",
              "      --bg-color: #E8F0FE;\n",
              "      --fill-color: #1967D2;\n",
              "      --hover-bg-color: #E2EBFA;\n",
              "      --hover-fill-color: #174EA6;\n",
              "      --disabled-fill-color: #AAA;\n",
              "      --disabled-bg-color: #DDD;\n",
              "  }\n",
              "\n",
              "  [theme=dark] .colab-df-quickchart {\n",
              "      --bg-color: #3B4455;\n",
              "      --fill-color: #D2E3FC;\n",
              "      --hover-bg-color: #434B5C;\n",
              "      --hover-fill-color: #FFFFFF;\n",
              "      --disabled-bg-color: #3B4455;\n",
              "      --disabled-fill-color: #666;\n",
              "  }\n",
              "\n",
              "  .colab-df-quickchart {\n",
              "    background-color: var(--bg-color);\n",
              "    border: none;\n",
              "    border-radius: 50%;\n",
              "    cursor: pointer;\n",
              "    display: none;\n",
              "    fill: var(--fill-color);\n",
              "    height: 32px;\n",
              "    padding: 0;\n",
              "    width: 32px;\n",
              "  }\n",
              "\n",
              "  .colab-df-quickchart:hover {\n",
              "    background-color: var(--hover-bg-color);\n",
              "    box-shadow: 0 1px 2px rgba(60, 64, 67, 0.3), 0 1px 3px 1px rgba(60, 64, 67, 0.15);\n",
              "    fill: var(--button-hover-fill-color);\n",
              "  }\n",
              "\n",
              "  .colab-df-quickchart-complete:disabled,\n",
              "  .colab-df-quickchart-complete:disabled:hover {\n",
              "    background-color: var(--disabled-bg-color);\n",
              "    fill: var(--disabled-fill-color);\n",
              "    box-shadow: none;\n",
              "  }\n",
              "\n",
              "  .colab-df-spinner {\n",
              "    border: 2px solid var(--fill-color);\n",
              "    border-color: transparent;\n",
              "    border-bottom-color: var(--fill-color);\n",
              "    animation:\n",
              "      spin 1s steps(1) infinite;\n",
              "  }\n",
              "\n",
              "  @keyframes spin {\n",
              "    0% {\n",
              "      border-color: transparent;\n",
              "      border-bottom-color: var(--fill-color);\n",
              "      border-left-color: var(--fill-color);\n",
              "    }\n",
              "    20% {\n",
              "      border-color: transparent;\n",
              "      border-left-color: var(--fill-color);\n",
              "      border-top-color: var(--fill-color);\n",
              "    }\n",
              "    30% {\n",
              "      border-color: transparent;\n",
              "      border-left-color: var(--fill-color);\n",
              "      border-top-color: var(--fill-color);\n",
              "      border-right-color: var(--fill-color);\n",
              "    }\n",
              "    40% {\n",
              "      border-color: transparent;\n",
              "      border-right-color: var(--fill-color);\n",
              "      border-top-color: var(--fill-color);\n",
              "    }\n",
              "    60% {\n",
              "      border-color: transparent;\n",
              "      border-right-color: var(--fill-color);\n",
              "    }\n",
              "    80% {\n",
              "      border-color: transparent;\n",
              "      border-right-color: var(--fill-color);\n",
              "      border-bottom-color: var(--fill-color);\n",
              "    }\n",
              "    90% {\n",
              "      border-color: transparent;\n",
              "      border-bottom-color: var(--fill-color);\n",
              "    }\n",
              "  }\n",
              "</style>\n",
              "\n",
              "  <script>\n",
              "    async function quickchart(key) {\n",
              "      const quickchartButtonEl =\n",
              "        document.querySelector('#' + key + ' button');\n",
              "      quickchartButtonEl.disabled = true;  // To prevent multiple clicks.\n",
              "      quickchartButtonEl.classList.add('colab-df-spinner');\n",
              "      try {\n",
              "        const charts = await google.colab.kernel.invokeFunction(\n",
              "            'suggestCharts', [key], {});\n",
              "      } catch (error) {\n",
              "        console.error('Error during call to suggestCharts:', error);\n",
              "      }\n",
              "      quickchartButtonEl.classList.remove('colab-df-spinner');\n",
              "      quickchartButtonEl.classList.add('colab-df-quickchart-complete');\n",
              "    }\n",
              "    (() => {\n",
              "      let quickchartButtonEl =\n",
              "        document.querySelector('#df-08c507b8-3855-47d0-98cf-495bf577ed71 button');\n",
              "      quickchartButtonEl.style.display =\n",
              "        google.colab.kernel.accessAllowed ? 'block' : 'none';\n",
              "    })();\n",
              "  </script>\n",
              "</div>\n",
              "    </div>\n",
              "  </div>\n"
            ]
          },
          "metadata": {},
          "execution_count": 43
        }
      ],
      "source": [
        "print(\"intercept  {:10.4f}\".format(logit_reg.intercept_[0]))\n",
        "print('classes', logit_reg.classes_)\n",
        "pd.DataFrame({'coeff': logit_reg.coef_[0]}, index=X.columns)"
      ]
    },
    {
      "cell_type": "markdown",
      "id": "c1b833fe",
      "metadata": {
        "id": "c1b833fe"
      },
      "source": [
        "## Confusion matrix and evaluation metrics"
      ]
    },
    {
      "cell_type": "markdown",
      "id": "d671b7f0",
      "metadata": {
        "id": "d671b7f0"
      },
      "source": [
        "The confusion matrix is a table showing the number of correct and incorrect predictions categorized by type of response. In the following, we will consider a *logistic regression* model that was trained on a balanced data set with an equal number of defaulted and paid-off loans.<br>\n",
        "\n",
        "**Convention** Y=1 corresponds to the event of interest and Y = 0 corresponds to a negative (or usual) event.\n",
        "\n"
      ]
    },
    {
      "cell_type": "code",
      "source": [
        "# Make predictions on the test dataset\n",
        "y_test_pred = logit_reg.predict(X_test)\n",
        "\n",
        "# Obtain the confusion matrix\n",
        "cm = confusion_matrix(y_test, y_test_pred)\n",
        "cm\n",
        "# TN -> C0,0 (default, default)\n",
        "# FN -> C1,0 (paid off, default)\n",
        "# TP -> C1,1 (paid off, paid off)\n",
        "# FP -> C0,1 (default, paid off)"
      ],
      "metadata": {
        "id": "ri_6IV7ISTgN",
        "colab": {
          "base_uri": "https://localhost:8080/"
        },
        "outputId": "5a054b00-5980-4e65-bfbd-4f13a217f212"
      },
      "id": "ri_6IV7ISTgN",
      "execution_count": null,
      "outputs": [
        {
          "output_type": "execute_result",
          "data": {
            "text/plain": [
              "array([[2870, 1623],\n",
              "       [1672, 2904]])"
            ]
          },
          "metadata": {},
          "execution_count": 44
        }
      ]
    },
    {
      "cell_type": "code",
      "source": [
        "conf_mat = pd.DataFrame([[cm[0, 0], cm[0, 1]],\n",
        "                         [cm[1, 0], cm[1, 1]]],\n",
        "                       index=['Y = default', 'Y = paid off'],\n",
        "                       columns=['Yhat = default', 'Yhat = paid off'])\n",
        "print(conf_mat)"
      ],
      "metadata": {
        "id": "gyU4_39kBI1R",
        "colab": {
          "base_uri": "https://localhost:8080/"
        },
        "outputId": "bae9cda7-b623-40e6-f397-683da263d1b6"
      },
      "id": "gyU4_39kBI1R",
      "execution_count": null,
      "outputs": [
        {
          "output_type": "stream",
          "name": "stdout",
          "text": [
            "              Yhat = default  Yhat = paid off\n",
            "Y = default             2870             1623\n",
            "Y = paid off            1672             2904\n"
          ]
        }
      ]
    },
    {
      "cell_type": "code",
      "execution_count": null,
      "id": "ef645c07",
      "metadata": {
        "id": "ef645c07",
        "colab": {
          "base_uri": "https://localhost:8080/"
        },
        "outputId": "01db1c91-76e6-486c-ce12-f42f8445d6f7"
      },
      "outputs": [
        {
          "output_type": "stream",
          "name": "stdout",
          "text": [
            "['default' 'paid off' 'paid off' ... 'paid off' 'paid off' 'default']\n",
            "[[0.83791535 0.16208465]\n",
            " [0.30348366 0.69651634]\n",
            " [0.33337076 0.66662924]\n",
            " ...\n",
            " [0.4257403  0.5742597 ]\n",
            " [0.33857211 0.66142789]\n",
            " [0.50353292 0.49646708]]\n"
          ]
        }
      ],
      "source": [
        "# NB: .predict() is the binarized version of .predict_prob()\n",
        "print(logit_reg.predict(X_test))\n",
        "print(logit_reg.predict_proba(X_test))\n",
        "\n",
        "# --> by default, the threshold is at 0.5\n",
        "# --> the class with the strongest proba is the predicted one"
      ]
    },
    {
      "cell_type": "code",
      "source": [
        "# We could set a threshold at 0.4\n",
        "y_test_pred_04 = ['default' if x >= 0.4 else 'paid off' for x in logit_reg.predict_proba(X_test)[:,1]]\n",
        "\n",
        "# Obtain the confusion matrix\n",
        "cm_04 = confusion_matrix(y_test, y_test_pred_04)\n",
        "print(cm_04)"
      ],
      "metadata": {
        "id": "W-uuNMjCWvjl",
        "colab": {
          "base_uri": "https://localhost:8080/"
        },
        "outputId": "d18cb268-6e2b-4fde-be02-d8eb460e5958"
      },
      "id": "W-uuNMjCWvjl",
      "execution_count": null,
      "outputs": [
        {
          "output_type": "stream",
          "name": "stdout",
          "text": [
            "[[2607 1886]\n",
            " [3760  816]]\n"
          ]
        }
      ]
    },
    {
      "cell_type": "code",
      "source": [
        "# Or, we could set a threshold at 0.7\n",
        "y_test_pred_07 = ['default' if x >= 0.7 else 'paid off' for x in logit_reg.predict_proba(X_test)[:,1]]\n",
        "\n",
        "# Obtain the confusion matrix\n",
        "cm_07 = confusion_matrix(y_test, y_test_pred_07)\n",
        "print(cm_07)"
      ],
      "metadata": {
        "id": "yMTQ8XvuYv0r",
        "colab": {
          "base_uri": "https://localhost:8080/"
        },
        "outputId": "7c8d6ffb-6679-450d-d260-0cbdf0c81f23"
      },
      "id": "yMTQ8XvuYv0r",
      "execution_count": null,
      "outputs": [
        {
          "output_type": "stream",
          "name": "stdout",
          "text": [
            "[[ 244 4249]\n",
            " [ 870 3706]]\n"
          ]
        }
      ]
    },
    {
      "cell_type": "markdown",
      "id": "4829a7bc",
      "metadata": {
        "id": "4829a7bc"
      },
      "source": [
        "### Precision, Recall, and Specificity\n",
        "The _scikit-learn_ function `precision_recall_fscore_support` returns\n",
        "precision, recall, f_score and support."
      ]
    },
    {
      "cell_type": "markdown",
      "source": [
        "#### With threshold at 0.5"
      ],
      "metadata": {
        "id": "XLmYwBibacij"
      },
      "id": "XLmYwBibacij"
    },
    {
      "cell_type": "code",
      "execution_count": null,
      "id": "1be094a5",
      "metadata": {
        "id": "1be094a5",
        "colab": {
          "base_uri": "https://localhost:8080/"
        },
        "outputId": "217fb25c-4599-40b5-c302-de93cecec713"
      },
      "outputs": [
        {
          "output_type": "stream",
          "name": "stdout",
          "text": [
            "Precision\t0.6415\n",
            "Recall\t0.6346\n",
            "Specificity\t0.6388\n"
          ]
        }
      ],
      "source": [
        "# With threshold at 0.5\n",
        "print('Precision\\t{:.4f}'.format(cm[1, 1] / sum(cm[:, 1])))\n",
        "print('Recall\\t{:.4f}'.format(cm[1, 1] / sum(cm[1, :])))\n",
        "print('Specificity\\t{:.4f}'.format(cm[0, 0] / sum(cm[0, :])))\n",
        "\n",
        "# NB:\n",
        "# TFP = 1 - Specificity = 1 - (TN/(TN+FP))\n",
        "# Specificity = 1 - TFP"
      ]
    },
    {
      "cell_type": "code",
      "execution_count": null,
      "id": "c9389c1c",
      "metadata": {
        "id": "c9389c1c",
        "colab": {
          "base_uri": "https://localhost:8080/"
        },
        "outputId": "c7e02039-980a-4029-86a6-1864c3bbd891"
      },
      "outputs": [
        {
          "output_type": "execute_result",
          "data": {
            "text/plain": [
              "(array([0.63188023, 0.64148443]),\n",
              " array([0.63877142, 0.63461538]),\n",
              " array([0.63530714, 0.63803142]),\n",
              " array([4493, 4576]))"
            ]
          },
          "metadata": {},
          "execution_count": 51
        }
      ],
      "source": [
        "precision_recall_fscore_support(y_test, y_test_pred,\n",
        "                                labels=['default', 'paid off'])"
      ]
    },
    {
      "cell_type": "markdown",
      "source": [
        "#### With threshold at 0.4"
      ],
      "metadata": {
        "id": "j5xe7rlsahJo"
      },
      "id": "j5xe7rlsahJo"
    },
    {
      "cell_type": "code",
      "source": [
        "print('Precision\\t{:.4f}'.format(cm_04[1, 1] / sum(cm_04[:, 1])))\n",
        "print('Recall\\t{:.4f}'.format(cm_04[1, 1] / sum(cm_04[1, :])))\n",
        "print('Specificity\\t{:.4f}'.format(cm_04[0, 0] / sum(cm_04[0, :])))"
      ],
      "metadata": {
        "id": "EUUjLElxanDk",
        "colab": {
          "base_uri": "https://localhost:8080/"
        },
        "outputId": "b4108f2c-d42f-43db-f41c-a0c9132946b0"
      },
      "id": "EUUjLElxanDk",
      "execution_count": null,
      "outputs": [
        {
          "output_type": "stream",
          "name": "stdout",
          "text": [
            "Precision\t0.3020\n",
            "Recall\t0.1783\n",
            "Specificity\t0.5802\n"
          ]
        }
      ]
    },
    {
      "cell_type": "markdown",
      "source": [
        "#### With threshold at 0.7"
      ],
      "metadata": {
        "id": "T9lZuVXwawBk"
      },
      "id": "T9lZuVXwawBk"
    },
    {
      "cell_type": "code",
      "source": [
        "print('Precision\\t{:.4f}'.format(cm_07[1, 1] / sum(cm_07[:, 1])))\n",
        "print('Recall\\t{:.4f}'.format(cm_07[1, 1] / sum(cm_07[1, :])))\n",
        "print('Specificity\\t{:.4f}'.format(cm_07[0, 0] / sum(cm_07[0, :])))"
      ],
      "metadata": {
        "id": "lw_PZ5NIazPQ",
        "colab": {
          "base_uri": "https://localhost:8080/"
        },
        "outputId": "fde4dc04-afeb-483e-c972-998f8958e3c3"
      },
      "id": "lw_PZ5NIazPQ",
      "execution_count": null,
      "outputs": [
        {
          "output_type": "stream",
          "name": "stdout",
          "text": [
            "Precision\t0.4659\n",
            "Recall\t0.8099\n",
            "Specificity\t0.0543\n"
          ]
        }
      ]
    },
    {
      "cell_type": "markdown",
      "id": "c6289673",
      "metadata": {
        "id": "c6289673"
      },
      "source": [
        "### ROC Curve\n",
        "The function `roc_curve` in _Scikit-learn_ calculates all the information that is required for plotting a ROC curve."
      ]
    },
    {
      "cell_type": "code",
      "execution_count": null,
      "id": "d7b235f1",
      "metadata": {
        "id": "d7b235f1",
        "colab": {
          "base_uri": "https://localhost:8080/",
          "height": 407
        },
        "outputId": "b65107f3-56b3-491a-84c8-891523f4a1cd"
      },
      "outputs": [
        {
          "output_type": "display_data",
          "data": {
            "text/plain": [
              "<Figure size 400x400 with 1 Axes>"
            ],
            "image/png": "[encoded data removed]"
          },
          "metadata": {}
        }
      ],
      "source": [
        "fpr, tpr, thresholds = roc_curve(y_test, logit_reg.predict_proba(X_test)[:, 0], pos_label='default')\n",
        "roc_df = pd.DataFrame({'recall': tpr, 'specificity': 1 - fpr})\n",
        "\n",
        "ax = roc_df.plot(x='specificity', y='recall', figsize=(4, 4), legend=False)\n",
        "ax.set_ylim(0, 1)\n",
        "ax.set_xlim(1, 0)\n",
        "ax.plot((1, 0), (0, 1))\n",
        "ax.set_xlabel('specificity')\n",
        "ax.set_ylabel('recall')\n",
        "\n",
        "\n",
        "plt.tight_layout()\n",
        "plt.show()"
      ]
    },
    {
      "cell_type": "markdown",
      "id": "014d8bce",
      "metadata": {
        "id": "014d8bce"
      },
      "source": [
        "### AUC\n",
        "Accuracy can easily be calculated using the _scikit-learn_ function `accuracy_score`."
      ]
    },
    {
      "cell_type": "code",
      "execution_count": null,
      "id": "648ce738",
      "metadata": {
        "id": "648ce738",
        "colab": {
          "base_uri": "https://localhost:8080/"
        },
        "outputId": "c0a0676b-3e03-4072-b126-6473ec62892d"
      },
      "outputs": [
        {
          "output_type": "stream",
          "name": "stdout",
          "text": [
            "0.692365717689833\n",
            "0.692365839285353\n"
          ]
        }
      ],
      "source": [
        "print(np.sum(roc_df.recall[:-1] * np.diff(1 - roc_df.specificity)))\n",
        "print(roc_auc_score([1 if yi == 'default' else 0 for yi in y_test], logit_reg.predict_proba(X_test)[:, 0]))"
      ]
    },
    {
      "cell_type": "code",
      "execution_count": null,
      "id": "dacccc78",
      "metadata": {
        "id": "dacccc78",
        "colab": {
          "base_uri": "https://localhost:8080/",
          "height": 407
        },
        "outputId": "82c0d7b7-f685-4cf3-d87d-050ee00be506"
      },
      "outputs": [
        {
          "output_type": "display_data",
          "data": {
            "text/plain": [
              "<Figure size 400x400 with 1 Axes>"
            ],
            "image/png": "[encoded data removed]"
          },
          "metadata": {}
        }
      ],
      "source": [
        "%matplotlib inline\n",
        "fpr, tpr, thresholds = roc_curve(y_test, logit_reg.predict_proba(X_test)[:,0], pos_label='default')\n",
        "roc_df = pd.DataFrame({'recall': tpr, 'specificity': 1 - fpr})\n",
        "\n",
        "ax = roc_df.plot(x='specificity', y='recall', figsize=(4, 4), legend=False)\n",
        "ax.set_ylim(0, 1)\n",
        "ax.set_xlim(1, 0)\n",
        "# ax.plot((1, 0), (0, 1))\n",
        "ax.set_xlabel('specificity')\n",
        "ax.set_ylabel('recall')\n",
        "ax.fill_between(roc_df.specificity, 0, roc_df.recall, alpha=0.3)\n",
        "\n",
        "\n",
        "plt.tight_layout()\n",
        "plt.show()"
      ]
    },
    {
      "cell_type": "markdown",
      "source": [
        "## Cross validation\n",
        "\n",
        "Objective: Perform model tuning with the end goal to choose a model which<br/>\n",
        "has a high generalization performance."
      ],
      "metadata": {
        "id": "m8EnLw1ukP9l"
      },
      "id": "m8EnLw1ukP9l"
    },
    {
      "cell_type": "markdown",
      "source": [
        "You can refer to the scikit-learn documentation for full details.\n",
        "[link text](https://scikit-learn.org/stable/modules/cross_validation.html)\n",
        "\n",
        "The following is done in this technique for training, validating, and testing the model:\n",
        "\n",
        "\n",
        "1.   The dataset is split into training and test dataset.\n",
        "2.   The training dataset is then split into K-folds.\n",
        "\n",
        "> Indented block\n",
        "3.   Out of the K-folds, (K-1) fold is used for training\n",
        "4.   1 fold is used for validation\n",
        "5.   The model with specific hyperparameters is trained with training data (K-1 folds) and validation data as 1 fold. The performance of the model is recorded.\n",
        "\n",
        "> Indented block\n",
        "6.   The above steps (**step 3**, **step 4**, and **step 5**) is repeated until each of the k-fold got used for validation purpose. This is why it is called k-fold cross-validation.\n",
        "7.   Finally, the mean and standard deviation of the model performance is computed by taking all of the model scores calculated in step 5 for each of the K models.\n",
        "\n",
        "8.   **Step 3 to Step 7** is repeated for different values of hyperparameters.\n",
        "\n",
        "9.   Finally, the hyperparameters which result in the most optimal mean and the standard deviation of model scores get selected.\n",
        "\n",
        "10.   The model is then trained **using the entire training data set** (**step 2**) and **the model performance is computed on the test data set** (**step 1**).\n",
        "\n"
      ],
      "metadata": {
        "id": "Py55-cT5kR9Z"
      },
      "id": "Py55-cT5kR9Z"
    },
    {
      "cell_type": "markdown",
      "source": [
        "### Estimate the accuracy of a linear kernel support vector machine"
      ],
      "metadata": {
        "id": "q6_52LF3nICw"
      },
      "id": "q6_52LF3nICw"
    },
    {
      "cell_type": "code",
      "source": [
        "from sklearn.model_selection import cross_val_score\n",
        "from sklearn.datasets import load_iris\n",
        "from sklearn import svm\n",
        "\n",
        "# Get the iris data\n",
        "X, y = load_iris(return_X_y=True)\n",
        "\n",
        "# We set a SVM classifier\n",
        "clf = svm.SVC(kernel = 'linear', C = 1, random_state = 42)\n",
        "\n",
        "# We fit the SVM on 5 folds\n",
        "scores = cross_val_score(clf, X, y, cv = 5)\n",
        "scores"
      ],
      "metadata": {
        "id": "PVp7MZAMnLMn",
        "colab": {
          "base_uri": "https://localhost:8080/"
        },
        "outputId": "1ee038f3-8bab-40c6-c6b6-1b558d536151"
      },
      "id": "PVp7MZAMnLMn",
      "execution_count": null,
      "outputs": [
        {
          "output_type": "execute_result",
          "data": {
            "text/plain": [
              "array([0.96666667, 1.        , 0.96666667, 0.96666667, 1.        ])"
            ]
          },
          "metadata": {},
          "execution_count": 57
        }
      ]
    },
    {
      "cell_type": "code",
      "source": [
        "# The mean score and the standard deviation are hence given by\n",
        "print(\"%0.2f accuracy with a standard deviation of %0.2f\" % (scores.mean(), scores.std()))"
      ],
      "metadata": {
        "id": "NqHmcls2oRxU",
        "colab": {
          "base_uri": "https://localhost:8080/"
        },
        "outputId": "55146645-5906-4101-c12f-37d60df32613"
      },
      "id": "NqHmcls2oRxU",
      "execution_count": null,
      "outputs": [
        {
          "output_type": "stream",
          "name": "stdout",
          "text": [
            "0.98 accuracy with a standard deviation of 0.02\n"
          ]
        }
      ]
    },
    {
      "cell_type": "markdown",
      "source": [
        "### Multiple metric evaluation\n",
        "\n",
        "We consider here the **cross_validate()** function, which differs from **cross_val_score()** in two ways:\n",
        "\n",
        "\n",
        "*   It allows specifying multiple metrics for evaluation.\n",
        "*   It returns a dict containing fit-times, score-times (and optionally training scores, fitted estimators, train-test split indices) in addition to the test score.\n",
        "\n"
      ],
      "metadata": {
        "id": "t6-P0jYRohCM"
      },
      "id": "t6-P0jYRohCM"
    },
    {
      "cell_type": "code",
      "source": [
        "from sklearn.model_selection import cross_validate\n",
        "from sklearn.metrics import recall_score\n",
        "from sklearn import svm"
      ],
      "metadata": {
        "id": "neiG4dXM3x4D"
      },
      "id": "neiG4dXM3x4D",
      "execution_count": null,
      "outputs": []
    },
    {
      "cell_type": "code",
      "source": [
        "# Set the list of required metrics\n",
        "scoring = ['precision_macro', 'recall_macro']\n",
        "\n",
        "# Choose a classifier (SVM) and set the hyperparameters\n",
        "clf = svm.SVC(kernel='linear', C=1, random_state=0)"
      ],
      "metadata": {
        "id": "I0QIbKYi334H"
      },
      "id": "I0QIbKYi334H",
      "execution_count": null,
      "outputs": []
    },
    {
      "cell_type": "code",
      "source": [
        "# Fit and text the model with cross-validation\n",
        "scores = cross_validate(clf, X, y, scoring=scoring)"
      ],
      "metadata": {
        "id": "ZwWC9wJO4Um4"
      },
      "id": "ZwWC9wJO4Um4",
      "execution_count": null,
      "outputs": []
    },
    {
      "cell_type": "code",
      "source": [
        "sorted(scores.keys())"
      ],
      "metadata": {
        "colab": {
          "base_uri": "https://localhost:8080/"
        },
        "id": "PGeqqe7P4VE0",
        "outputId": "f2e8d2ad-c9aa-481c-e342-f83e266c2cf2"
      },
      "id": "PGeqqe7P4VE0",
      "execution_count": null,
      "outputs": [
        {
          "output_type": "execute_result",
          "data": {
            "text/plain": [
              "['fit_time', 'score_time', 'test_precision_macro', 'test_recall_macro']"
            ]
          },
          "metadata": {},
          "execution_count": 62
        }
      ]
    },
    {
      "cell_type": "code",
      "source": [
        "scores['test_recall_macro']"
      ],
      "metadata": {
        "colab": {
          "base_uri": "https://localhost:8080/"
        },
        "id": "kariHuDM4cBA",
        "outputId": "60994c08-ee67-4b95-fbfc-f40f79925d0b"
      },
      "id": "kariHuDM4cBA",
      "execution_count": null,
      "outputs": [
        {
          "output_type": "execute_result",
          "data": {
            "text/plain": [
              "array([0.96666667, 1.        , 0.96666667, 0.96666667, 1.        ])"
            ]
          },
          "metadata": {},
          "execution_count": 63
        }
      ]
    },
    {
      "cell_type": "markdown",
      "source": [
        "## Tuning the hyper-parameters of an estimator\n",
        "\n",
        "I recommand the reading of [this scikit-learn documention](https://scikit-learn.org/stable/modules/grid_search.html#) to go deeper into the\n",
        "grid search and the cross-validation approaches for hyperparameters tuning.\n"
      ],
      "metadata": {
        "id": "lf818b26592h"
      },
      "id": "lf818b26592h"
    },
    {
      "cell_type": "code",
      "source": [],
      "metadata": {
        "id": "TxfA4zXup3KS"
      },
      "id": "TxfA4zXup3KS",
      "execution_count": null,
      "outputs": []
    }
  ],
  "metadata": {
    "kernelspec": {
      "display_name": "Python 3",
      "name": "python3"
    },
    "language_info": {
      "name": "python"
    },
    "colab": {
      "provenance": [],
      "include_colab_link": true
    }
  },
  "nbformat": 4,
  "nbformat_minor": 5
}